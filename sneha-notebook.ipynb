{
 "cells": [
  {
   "cell_type": "markdown",
   "metadata": {},
   "source": [
    "## 1. Import Necessary Libraries"
   ]
  },
  {
   "cell_type": "code",
   "execution_count": 13,
   "metadata": {
    "execution": {
     "iopub.execute_input": "2025-03-20T22:20:35.156990Z",
     "iopub.status.busy": "2025-03-20T22:20:35.156695Z",
     "iopub.status.idle": "2025-03-20T22:20:35.161914Z",
     "shell.execute_reply": "2025-03-20T22:20:35.160857Z",
     "shell.execute_reply.started": "2025-03-20T22:20:35.156967Z"
    },
    "trusted": true
   },
   "outputs": [],
   "source": [
    "# Import Necessary Libraries\n",
    "import pandas as pd\n",
    "import numpy as np\n",
    "import os\n",
    "import tensorflow as tf\n",
    "from sklearn.model_selection import train_test_split\n",
    "from sklearn.preprocessing import LabelEncoder\n",
    "from tensorflow.keras.preprocessing.image import ImageDataGenerator\n",
    "from tensorflow.keras import layers, models\n",
    "from tensorflow.keras.callbacks import EarlyStopping\n",
    "from sklearn.metrics import f1_score\n",
    "from sklearn.utils.class_weight import compute_class_weight\n",
    "from tensorflow.keras import metrics\n",
    "from tensorflow.keras.applications import ResNet50\n",
    "from tensorflow.keras.applications import EfficientNetB0\n",
    "from tensorflow.keras.layers import Dense, Flatten, Dropout, GlobalAveragePooling2D"
   ]
  },
  {
   "cell_type": "markdown",
   "metadata": {},
   "source": [
    "## 2. Load Data"
   ]
  },
  {
   "cell_type": "code",
   "execution_count": 2,
   "metadata": {
    "execution": {
     "iopub.execute_input": "2025-03-20T21:45:34.750241Z",
     "iopub.status.busy": "2025-03-20T21:45:34.749855Z",
     "iopub.status.idle": "2025-03-20T21:45:54.271719Z",
     "shell.execute_reply": "2025-03-20T21:45:54.271005Z",
     "shell.execute_reply.started": "2025-03-20T21:45:34.750215Z"
    },
    "trusted": true
   },
   "outputs": [],
   "source": [
    "# Load Data\n",
    "train_df = pd.read_csv('/kaggle/input/bttai-ajl-2025/train.csv')\n",
    "test_df = pd.read_csv('/kaggle/input/bttai-ajl-2025/test.csv')\n",
    "\n",
    "# Generate file paths correctly\n",
    "train_df['file_path'] = train_df.apply(\n",
    "    lambda row: f\"/kaggle/input/bttai-ajl-2025/train/train/{row['label']}/{row['md5hash']}.jpg\", axis=1\n",
    ")\n",
    "test_df['file_path'] = test_df['md5hash'].apply(\n",
    "    lambda x: f\"/kaggle/input/bttai-ajl-2025/test/test/{x}.jpg\"\n",
    ")\n",
    "\n",
    "# Remove invalid rows\n",
    "train_df = train_df[(train_df['fitzpatrick_scale'] > 0) & (train_df['label'].notna())]\n",
    "train_df = train_df[train_df['file_path'].apply(os.path.exists)]\n",
    "test_df = test_df[test_df['file_path'].apply(os.path.exists)]\n"
   ]
  },
  {
   "cell_type": "markdown",
   "metadata": {},
   "source": [
    "## 3. Data Preprocessing"
   ]
  },
  {
   "cell_type": "code",
   "execution_count": 4,
   "metadata": {
    "execution": {
     "iopub.execute_input": "2025-03-20T21:46:34.041801Z",
     "iopub.status.busy": "2025-03-20T21:46:34.041454Z",
     "iopub.status.idle": "2025-03-20T21:46:37.525717Z",
     "shell.execute_reply": "2025-03-20T21:46:37.524759Z",
     "shell.execute_reply.started": "2025-03-20T21:46:34.041775Z"
    },
    "trusted": true
   },
   "outputs": [
    {
     "name": "stdout",
     "output_type": "stream",
     "text": [
      "Found 2201 validated image filenames.\n",
      "Found 551 validated image filenames.\n",
      "Found 1227 validated image filenames.\n"
     ]
    }
   ],
   "source": [
    "# Data Preprocessing\n",
    "\n",
    "# Encode the labels\n",
    "label_encoder = LabelEncoder()\n",
    "train_df['encoded_label'] = label_encoder.fit_transform(train_df['label'])\n",
    "\n",
    "\n",
    "# Splitting dataset into training and validation datasets\n",
    "train_df, val_df = train_test_split(train_df, test_size=0.2, random_state=42, stratify=train_df['encoded_label'])\n",
    "\n",
    "\n",
    "\n",
    "# Define image data generators for training and testing\n",
    "train_datagen = ImageDataGenerator(\n",
    "    rotation_range=20,\n",
    "    width_shift_range=0.1,\n",
    "    height_shift_range=0.1,\n",
    "    brightness_range=[0.9, 1.1],\n",
    "    shear_range=0.1,\n",
    "    zoom_range=0.1,\n",
    "    horizontal_flip=True,\n",
    "    fill_mode='nearest'\n",
    ")\n",
    "\n",
    "train_generator = train_datagen.flow_from_dataframe(\n",
    "    train_df,\n",
    "    x_col='file_path',\n",
    "    y_col='encoded_label',\n",
    "    target_size=(224, 224),\n",
    "    batch_size=128,\n",
    "    class_mode='raw',\n",
    "    shuffle = True\n",
    ")\n",
    "\n",
    "\n",
    "val_datagen = ImageDataGenerator()\n",
    "val_generator = val_datagen.flow_from_dataframe(\n",
    "    val_df,\n",
    "    x_col='file_path',\n",
    "    target_size=(224, 224),\n",
    "    batch_size=128,\n",
    "    class_mode=None,\n",
    "    shuffle=False\n",
    "    \n",
    ")\n",
    "\n",
    "\n",
    "test_datagen = ImageDataGenerator()\n",
    "test_generator = test_datagen.flow_from_dataframe(\n",
    "    test_df,\n",
    "    x_col='file_path',\n",
    "    target_size=(224, 224),\n",
    "    batch_size= 128,\n",
    "    class_mode=None,\n",
    "    shuffle=False\n",
    "    \n",
    ")\n",
    "\n",
    "# Compute Class Weights\n",
    "class_weights = compute_class_weight(\n",
    "    class_weight=\"balanced\",\n",
    "    classes=np.unique(train_df['encoded_label']),\n",
    "    y=train_df['encoded_label']\n",
    ")\n",
    "class_weights_dict = dict(enumerate(class_weights))"
   ]
  },
  {
   "cell_type": "markdown",
   "metadata": {},
   "source": [
    "## 4. Model Training"
   ]
  },
  {
   "cell_type": "code",
   "execution_count": 21,
   "metadata": {
    "execution": {
     "iopub.execute_input": "2025-03-20T22:49:04.864574Z",
     "iopub.status.busy": "2025-03-20T22:49:04.864188Z",
     "iopub.status.idle": "2025-03-20T22:58:11.660047Z",
     "shell.execute_reply": "2025-03-20T22:58:11.659351Z",
     "shell.execute_reply.started": "2025-03-20T22:49:04.864532Z"
    },
    "trusted": true
   },
   "outputs": [
    {
     "name": "stdout",
     "output_type": "stream",
     "text": [
      "Epoch 1/15\n",
      "\u001b[1m18/18\u001b[0m \u001b[32m━━━━━━━━━━━━━━━━━━━━\u001b[0m\u001b[37m\u001b[0m \u001b[1m64s\u001b[0m 2s/step - accuracy: 0.1797 - loss: 2.7998\n",
      "Epoch 2/15\n",
      "\u001b[1m18/18\u001b[0m \u001b[32m━━━━━━━━━━━━━━━━━━━━\u001b[0m\u001b[37m\u001b[0m \u001b[1m34s\u001b[0m 1s/step - accuracy: 0.4291 - loss: 1.8902\n",
      "Epoch 3/15\n",
      "\u001b[1m18/18\u001b[0m \u001b[32m━━━━━━━━━━━━━━━━━━━━\u001b[0m\u001b[37m\u001b[0m \u001b[1m34s\u001b[0m 1s/step - accuracy: 0.5609 - loss: 1.4134\n",
      "Epoch 4/15\n",
      "\u001b[1m18/18\u001b[0m \u001b[32m━━━━━━━━━━━━━━━━━━━━\u001b[0m\u001b[37m\u001b[0m \u001b[1m38s\u001b[0m 1s/step - accuracy: 0.6686 - loss: 1.0612\n",
      "Epoch 5/15\n",
      "\u001b[1m18/18\u001b[0m \u001b[32m━━━━━━━━━━━━━━━━━━━━\u001b[0m\u001b[37m\u001b[0m \u001b[1m34s\u001b[0m 1s/step - accuracy: 0.7851 - loss: 0.7720\n",
      "Epoch 6/15\n",
      "\u001b[1m18/18\u001b[0m \u001b[32m━━━━━━━━━━━━━━━━━━━━\u001b[0m\u001b[37m\u001b[0m \u001b[1m33s\u001b[0m 1s/step - accuracy: 0.7982 - loss: 0.6234\n",
      "Epoch 7/15\n",
      "\u001b[1m18/18\u001b[0m \u001b[32m━━━━━━━━━━━━━━━━━━━━\u001b[0m\u001b[37m\u001b[0m \u001b[1m34s\u001b[0m 1s/step - accuracy: 0.8465 - loss: 0.5212\n",
      "Epoch 8/15\n",
      "\u001b[1m18/18\u001b[0m \u001b[32m━━━━━━━━━━━━━━━━━━━━\u001b[0m\u001b[37m\u001b[0m \u001b[1m34s\u001b[0m 1s/step - accuracy: 0.8778 - loss: 0.3978\n",
      "Epoch 9/15\n",
      "\u001b[1m18/18\u001b[0m \u001b[32m━━━━━━━━━━━━━━━━━━━━\u001b[0m\u001b[37m\u001b[0m \u001b[1m34s\u001b[0m 1s/step - accuracy: 0.9225 - loss: 0.2759\n",
      "Epoch 10/15\n",
      "\u001b[1m18/18\u001b[0m \u001b[32m━━━━━━━━━━━━━━━━━━━━\u001b[0m\u001b[37m\u001b[0m \u001b[1m34s\u001b[0m 1s/step - accuracy: 0.9159 - loss: 0.2828\n",
      "Epoch 11/15\n",
      "\u001b[1m18/18\u001b[0m \u001b[32m━━━━━━━━━━━━━━━━━━━━\u001b[0m\u001b[37m\u001b[0m \u001b[1m34s\u001b[0m 1s/step - accuracy: 0.9243 - loss: 0.2486\n",
      "Epoch 12/15\n",
      "\u001b[1m18/18\u001b[0m \u001b[32m━━━━━━━━━━━━━━━━━━━━\u001b[0m\u001b[37m\u001b[0m \u001b[1m34s\u001b[0m 1s/step - accuracy: 0.9427 - loss: 0.2094\n",
      "Epoch 13/15\n",
      "\u001b[1m18/18\u001b[0m \u001b[32m━━━━━━━━━━━━━━━━━━━━\u001b[0m\u001b[37m\u001b[0m \u001b[1m34s\u001b[0m 1s/step - accuracy: 0.9436 - loss: 0.1827\n",
      "Epoch 14/15\n",
      "\u001b[1m18/18\u001b[0m \u001b[32m━━━━━━━━━━━━━━━━━━━━\u001b[0m\u001b[37m\u001b[0m \u001b[1m34s\u001b[0m 1s/step - accuracy: 0.9584 - loss: 0.1473\n",
      "Epoch 15/15\n",
      "\u001b[1m18/18\u001b[0m \u001b[32m━━━━━━━━━━━━━━━━━━━━\u001b[0m\u001b[37m\u001b[0m \u001b[1m34s\u001b[0m 1s/step - accuracy: 0.9477 - loss: 0.1826\n"
     ]
    },
    {
     "data": {
      "text/plain": [
       "<keras.src.callbacks.history.History at 0x7ee81b8327d0>"
      ]
     },
     "execution_count": 21,
     "metadata": {},
     "output_type": "execute_result"
    }
   ],
   "source": [
    "\n",
    "base_model = EfficientNetB0(weights='imagenet', include_top=False, input_shape=(224, 224, 3))\n",
    "base_model.trainable = True\n",
    "for layer in base_model.layers[:200]:  \n",
    "    layer.trainable = False  \n",
    "\n",
    "\n",
    "\n",
    "efficientnetb0 = models.Sequential([\n",
    "    base_model,\n",
    "    layers.GlobalAveragePooling2D(),\n",
    "    layers.Dense(128, activation='relu'),\n",
    "    layers.Dropout(0.25),\n",
    "    layers.Dense(21, activation='softmax')  # Adjust number of classes\n",
    "])\n",
    "\n",
    "efficientnetb0.compile(optimizer=tf.keras.optimizers.Adam(learning_rate=1e-3),\n",
    "              loss='sparse_categorical_crossentropy',\n",
    "              metrics=['accuracy'])\n",
    "\n",
    "efficientnetb0.fit(train_generator, epochs=15)"
   ]
  },
  {
   "cell_type": "code",
   "execution_count": 25,
   "metadata": {
    "execution": {
     "iopub.execute_input": "2025-03-20T23:00:46.113205Z",
     "iopub.status.busy": "2025-03-20T23:00:46.112836Z",
     "iopub.status.idle": "2025-03-20T23:01:12.826054Z",
     "shell.execute_reply": "2025-03-20T23:01:12.825422Z",
     "shell.execute_reply.started": "2025-03-20T23:00:46.113177Z"
    },
    "trusted": true
   },
   "outputs": [
    {
     "name": "stdout",
     "output_type": "stream",
     "text": [
      "\u001b[1m5/5\u001b[0m \u001b[32m━━━━━━━━━━━━━━━━━━━━\u001b[0m\u001b[37m\u001b[0m \u001b[1m3s\u001b[0m 518ms/step\n",
      "Efficient Net b0 F1 Score: 0.5449766222577818\n"
     ]
    },
    {
     "name": "stderr",
     "output_type": "stream",
     "text": [
      "/usr/local/lib/python3.10/dist-packages/keras/src/trainers/data_adapters/py_dataset_adapter.py:122: UserWarning: Your `PyDataset` class should call `super().__init__(**kwargs)` in its constructor. `**kwargs` can include `workers`, `use_multiprocessing`, `max_queue_size`. Do not pass these arguments to `fit()`, as they will be ignored.\n",
      "  self._warn_if_super_not_called()\n"
     ]
    },
    {
     "name": "stdout",
     "output_type": "stream",
     "text": [
      "\u001b[1m10/10\u001b[0m \u001b[32m━━━━━━━━━━━━━━━━━━━━\u001b[0m\u001b[37m\u001b[0m \u001b[1m19s\u001b[0m 2s/step\n"
     ]
    }
   ],
   "source": [
    "\n",
    "# Generate predictions\n",
    "# y_pred_res = np.argmax(resnet50.predict(val_generator), axis=1) \n",
    "y_pred_eff = np.argmax(efficientnetb0.predict(val_generator), axis=1)\n",
    "y_true = val_df['encoded_label'].values \n",
    "\n",
    "# Calculate F1 Score\n",
    "# f1 = f1_score(y_true, y_pred_res, average='weighted')\n",
    "# print(\"ResNet 50 F1 Score:\", f1)\n",
    "\n",
    "f1 = f1_score(y_true, y_pred_eff, average='weighted')\n",
    "print(\"Efficient Net b0 F1 Score:\", f1)\n",
    "\n",
    "\n",
    "# # SUBMISSION.CSV\n",
    "y_pred = np.argmax(efficientnetb0.predict(test_generator), axis = 1)\n",
    "test_df['label'] = label_encoder.inverse_transform(y_pred)\n",
    "\n",
    "# Save submission\n",
    "test_df[['md5hash', 'label']].to_csv('/kaggle/working/submission.csv', index=False)"
   ]
  },
  {
   "cell_type": "code",
   "execution_count": null,
   "metadata": {
    "trusted": true
   },
   "outputs": [],
   "source": []
  }
 ],
 "metadata": {
  "kaggle": {
   "accelerator": "gpu",
   "dataSources": [
    {
     "databundleVersionId": 10898385,
     "sourceId": 90489,
     "sourceType": "competition"
    }
   ],
   "dockerImageVersionId": 30839,
   "isGpuEnabled": true,
   "isInternetEnabled": true,
   "language": "python",
   "sourceType": "notebook"
  },
  "kernelspec": {
   "display_name": "Python 3",
   "language": "python",
   "name": "python3"
  },
  "language_info": {
   "codemirror_mode": {
    "name": "ipython",
    "version": 3
   },
   "file_extension": ".py",
   "mimetype": "text/x-python",
   "name": "python",
   "nbconvert_exporter": "python",
   "pygments_lexer": "ipython3",
   "version": "3.12.2"
  }
 },
 "nbformat": 4,
 "nbformat_minor": 4
}

{
 "cells": [
  {
   "cell_type": "code",
   "execution_count": 1,
   "metadata": {
    "_cell_guid": "b1076dfc-b9ad-4769-8c92-a6c4dae69d19",
    "_uuid": "8f2839f25d086af736a60e9eeb907d3b93b6e0e5",
    "execution": {
     "iopub.execute_input": "2025-03-18T22:14:36.559438Z",
     "iopub.status.busy": "2025-03-18T22:14:36.559052Z",
     "iopub.status.idle": "2025-03-18T22:14:50.455521Z",
     "shell.execute_reply": "2025-03-18T22:14:50.454459Z",
     "shell.execute_reply.started": "2025-03-18T22:14:36.559391Z"
    },
    "trusted": true
   },
   "outputs": [],
   "source": [
    "import os\n",
    "import numpy as np\n",
    "import pandas as pd\n",
    "from sklearn.preprocessing import LabelEncoder\n",
    "from sklearn.utils.class_weight import compute_class_weight\n",
    "import tensorflow as tf\n",
    "from tensorflow.keras.preprocessing.image import ImageDataGenerator\n",
    "from tensorflow.keras.applications import EfficientNetV2B0, ResNet50, ConvNeXtTiny\n",
    "from tensorflow.keras.layers import Dense, Dropout, GlobalAveragePooling2D\n",
    "from tensorflow.keras.models import Model\n",
    "from tensorflow.keras.optimizers import Adam\n",
    "from tensorflow.keras.callbacks import EarlyStopping, ReduceLROnPlateau, LearningRateScheduler\n",
    "from tensorflow.keras.losses import SparseCategoricalCrossentropy\n",
    "import warnings\n",
    "\n",
    "# Mixed precision for faster training and better generalization\n",
    "tf.keras.mixed_precision.set_global_policy('mixed_float16')\n",
    "\n",
    "warnings.filterwarnings('ignore')\n"
   ]
  },
  {
   "cell_type": "code",
   "execution_count": null,
   "metadata": {
    "execution": {
     "iopub.execute_input": "2025-03-18T22:14:58.852947Z",
     "iopub.status.busy": "2025-03-18T22:14:58.852233Z",
     "iopub.status.idle": "2025-03-18T22:15:04.173171Z",
     "shell.execute_reply": "2025-03-18T22:15:04.172131Z",
     "shell.execute_reply.started": "2025-03-18T22:14:58.852907Z"
    },
    "trusted": true
   },
   "outputs": [],
   "source": [
    "# Load Data \n",
    "train_df = pd.read_csv('/kaggle/input/bttai-ajl-2025/train.csv')\n",
    "test_df = pd.read_csv('/kaggle/input/bttai-ajl-2025/test.csv')\n",
    "\n",
    "# Generate file paths\n",
    "train_df['file_path'] = train_df.apply(\n",
    "    lambda row: f\"/kaggle/input/bttai-ajl-2025/train/train/{row['label']}/{row['md5hash']}.jpg\", axis=1\n",
    ")\n",
    "test_df['file_path'] = test_df['md5hash'].apply(\n",
    "    lambda x: f\"/kaggle/input/bttai-ajl-2025/test/test/{x}.jpg\"\n",
    ")\n",
    "\n",
    "# Remove invalid rows\n",
    "train_df = train_df[(train_df['fitzpatrick_scale'] > 0) & (train_df['label'].notna())]\n",
    "train_df = train_df[train_df['file_path'].apply(os.path.exists)]\n",
    "test_df = test_df[test_df['file_path'].apply(os.path.exists)]"
   ]
  },
  {
   "cell_type": "code",
   "execution_count": null,
   "metadata": {
    "execution": {
     "iopub.execute_input": "2025-03-18T22:15:06.649740Z",
     "iopub.status.busy": "2025-03-18T22:15:06.649379Z",
     "iopub.status.idle": "2025-03-18T22:15:06.661907Z",
     "shell.execute_reply": "2025-03-18T22:15:06.661001Z",
     "shell.execute_reply.started": "2025-03-18T22:15:06.649711Z"
    },
    "trusted": true
   },
   "outputs": [],
   "source": [
    "# Encode Labels\n",
    "label_encoder = LabelEncoder()\n",
    "train_df['encoded_label'] = label_encoder.fit_transform(train_df['label'])\n",
    "\n",
    "num_classes = len(label_encoder.classes_)\n",
    "\n",
    "# Compute Class Weights\n",
    "class_weights = compute_class_weight(\n",
    "    class_weight=\"balanced\",\n",
    "    classes=np.unique(train_df['encoded_label']),\n",
    "    y=train_df['encoded_label']\n",
    ")\n",
    "class_weights_dict = dict(enumerate(class_weights))\n",
    "\n",
    "# Learning Rate Scheduler\n",
    "def cosine_decay_with_warmup(epoch, lr):\n",
    "    warmup_epochs = 3\n",
    "    if epoch < warmup_epochs:\n",
    "        return lr * (epoch + 1) / warmup_epochs\n",
    "    else:\n",
    "        return 1e-4 * 0.5 * (1 + np.cos(np.pi * (epoch - warmup_epochs) / (50 - warmup_epochs)))\n"
   ]
  },
  {
   "cell_type": "code",
   "execution_count": null,
   "metadata": {
    "execution": {
     "iopub.execute_input": "2025-03-18T22:15:09.415961Z",
     "iopub.status.busy": "2025-03-18T22:15:09.415646Z",
     "iopub.status.idle": "2025-03-18T22:15:09.422880Z",
     "shell.execute_reply": "2025-03-18T22:15:09.422066Z",
     "shell.execute_reply.started": "2025-03-18T22:15:09.415939Z"
    },
    "trusted": true
   },
   "outputs": [],
   "source": [
    "# Mixup and Cutmix \n",
    "def mixup(batch_images, batch_labels, alpha=0.4):\n",
    "    lam = np.random.beta(alpha, alpha)\n",
    "    index = np.random.permutation(batch_images.shape[0])\n",
    "    mixed_images = lam * batch_images + (1 - lam) * batch_images[index]\n",
    "    mixed_labels = lam * batch_labels + (1 - lam) * batch_labels[index]\n",
    "    return mixed_images, mixed_labels\n",
    "\n",
    "def cutmix(batch_images, batch_labels, alpha=0.4):\n",
    "    lam = np.random.beta(alpha, alpha)\n",
    "    h, w = batch_images.shape[1:3]\n",
    "    r_x = np.random.uniform(0, w)\n",
    "    r_y = np.random.uniform(0, h)\n",
    "    r_w = w * np.sqrt(1 - lam)\n",
    "    r_h = h * np.sqrt(1 - lam)\n",
    "\n",
    "    x1 = int(np.clip(r_x - r_w / 2, 0, w))\n",
    "    y1 = int(np.clip(r_y - r_h / 2, 0, h))\n",
    "    x2 = int(np.clip(r_x + r_w / 2, 0, w))\n",
    "    y2 = int(np.clip(r_y + r_h / 2, 0, h))\n",
    "\n",
    "    index = np.random.permutation(batch_images.shape[0])\n",
    "    batch_images[:, y1:y2, x1:x2, :] = batch_images[index, y1:y2, x1:x2, :]\n",
    "    batch_labels = lam * batch_labels + (1 - lam) * batch_labels[index]\n",
    "\n",
    "    return batch_images, batch_labels"
   ]
  },
  {
   "cell_type": "code",
   "execution_count": null,
   "metadata": {
    "execution": {
     "iopub.execute_input": "2025-03-18T22:15:11.310372Z",
     "iopub.status.busy": "2025-03-18T22:15:11.310012Z",
     "iopub.status.idle": "2025-03-18T22:15:13.107358Z",
     "shell.execute_reply": "2025-03-18T22:15:13.106345Z",
     "shell.execute_reply.started": "2025-03-18T22:15:11.310339Z"
    },
    "trusted": true
   },
   "outputs": [
    {
     "name": "stdout",
     "output_type": "stream",
     "text": [
      "Found 2752 validated image filenames.\n",
      "Found 1227 validated image filenames.\n"
     ]
    }
   ],
   "source": [
    "\n",
    "#  Data Augmentation \n",
    "datagen = ImageDataGenerator(\n",
    "    rotation_range=20,\n",
    "    width_shift_range=0.2,\n",
    "    height_shift_range=0.2,\n",
    "    brightness_range=[0.8, 1.2],\n",
    "    shear_range=0.2,\n",
    "    zoom_range=0.2,\n",
    "    horizontal_flip=True,\n",
    "    fill_mode='nearest'\n",
    ")\n",
    "\n",
    "train_generator = datagen.flow_from_dataframe(\n",
    "    train_df,\n",
    "    x_col='file_path',\n",
    "    y_col='encoded_label',\n",
    "    target_size=(512, 512),  # Increased size for better details\n",
    "    batch_size=16,           # Smaller batch size for stability\n",
    "    class_mode='raw'\n",
    ")\n",
    "\n",
    "test_datagen = ImageDataGenerator()\n",
    "test_generator = test_datagen.flow_from_dataframe(\n",
    "    test_df,\n",
    "    x_col='file_path',\n",
    "    target_size=(512, 512),\n",
    "    batch_size=16,\n",
    "    class_mode=None,\n",
    "    shuffle=False\n",
    ")"
   ]
  },
  {
   "cell_type": "code",
   "execution_count": null,
   "metadata": {
    "execution": {
     "iopub.execute_input": "2025-03-18T22:15:13.943440Z",
     "iopub.status.busy": "2025-03-18T22:15:13.943075Z",
     "iopub.status.idle": "2025-03-18T22:15:13.948320Z",
     "shell.execute_reply": "2025-03-18T22:15:13.947352Z",
     "shell.execute_reply.started": "2025-03-18T22:15:13.943409Z"
    },
    "trusted": true
   },
   "outputs": [],
   "source": [
    "#  Build Model \n",
    "def build_model(base_model):\n",
    "    base_model.trainable = False\n",
    "    x = GlobalAveragePooling2D()(base_model.output)\n",
    "    x = Dropout(0.5)(x)\n",
    "    output = Dense(num_classes, activation='softmax')(x)\n",
    "    model = Model(inputs=base_model.input, outputs=output)\n",
    "    return model"
   ]
  },
  {
   "cell_type": "code",
   "execution_count": null,
   "metadata": {
    "execution": {
     "iopub.execute_input": "2025-03-18T22:15:16.591253Z",
     "iopub.status.busy": "2025-03-18T22:15:16.590959Z"
    },
    "trusted": true
   },
   "outputs": [
    {
     "name": "stdout",
     "output_type": "stream",
     "text": [
      "Downloading data from https://storage.googleapis.com/tensorflow/keras-applications/efficientnet_v2/efficientnetv2-b0_notop.h5\n",
      "\u001b[1m24274472/24274472\u001b[0m \u001b[32m━━━━━━━━━━━━━━━━━━━━\u001b[0m\u001b[37m\u001b[0m \u001b[1m1s\u001b[0m 0us/step\n",
      "Epoch 1/30\n",
      "\u001b[1m172/172\u001b[0m \u001b[32m━━━━━━━━━━━━━━━━━━━━\u001b[0m\u001b[37m\u001b[0m \u001b[1m251s\u001b[0m 1s/step - accuracy: 0.0552 - loss: 3.1580\n",
      "Epoch 2/30\n",
      "\u001b[1m172/172\u001b[0m \u001b[32m━━━━━━━━━━━━━━━━━━━━\u001b[0m\u001b[37m\u001b[0m \u001b[1m211s\u001b[0m 1s/step - accuracy: 0.0919 - loss: 2.9705\n",
      "Epoch 3/30\n",
      "\u001b[1m113/172\u001b[0m \u001b[32m━━━━━━━━━━━━━\u001b[0m\u001b[37m━━━━━━━\u001b[0m \u001b[1m1:12\u001b[0m 1s/step - accuracy: 0.1027 - loss: 2.9312"
     ]
    }
   ],
   "source": [
    "# EfficientNetV2B0\n",
    "model1 = build_model(EfficientNetV2B0(include_top=False, weights='imagenet', input_shape=(512, 512, 3)))\n",
    "model1.compile(optimizer=Adam(learning_rate=1e-4), loss='sparse_categorical_crossentropy', metrics=['accuracy'])\n",
    "model1.fit(train_generator, epochs=30, class_weight=class_weights_dict)\n",
    "print(\"complete\")"
   ]
  },
  {
   "cell_type": "code",
   "execution_count": null,
   "metadata": {},
   "outputs": [],
   "source": [
    "# ResNet50\n",
    "model2 = build_model(ResNet50(include_top=False, weights='imagenet', input_shape=(512, 512, 3)))\n",
    "model2.compile(optimizer=Adam(learning_rate=1e-4), loss='sparse_categorical_crossentropy', metrics=['accuracy'])\n",
    "model2.fit(train_generator, epochs=30, class_weight=class_weights_dict)\n",
    "print(\"complete\")"
   ]
  },
  {
   "cell_type": "code",
   "execution_count": null,
   "metadata": {},
   "outputs": [],
   "source": [
    "# ConvNeXtTiny\n",
    "model3 = build_model(ConvNeXtTiny(include_top=False, weights='imagenet', input_shape=(512, 512, 3)))\n",
    "model3.compile(optimizer=Adam(learning_rate=1e-4), loss='sparse_categorical_crossentropy', metrics=['accuracy'])\n",
    "model3.fit(train_generator, epochs=30, class_weight=class_weights_dict)\n",
    "print(\"complete\")"
   ]
  },
  {
   "cell_type": "code",
   "execution_count": null,
   "metadata": {},
   "outputs": [],
   "source": [
    "# Model Averaging \n",
    "pred1 = model1.predict(test_generator)\n",
    "pred2 = model2.predict(test_generator)\n",
    "pred3 = model3.predict(test_generator)\n",
    "print(\"complete\")"
   ]
  },
  {
   "cell_type": "code",
   "execution_count": null,
   "metadata": {},
   "outputs": [],
   "source": [
    "final_predictions = (0.4 * pred1) + (0.3 * pred2) + (0.3 * pred3)\n",
    "test_df['label'] = label_encoder.inverse_transform(np.argmax(final_predictions, axis=1))\n",
    "\n",
    "# Create Submission\n",
    "submission = test_df[['md5hash', 'label']]\n",
    "submission.to_csv('/kaggle/working/sample_submission.csv', index=False)"
   ]
  }
 ],
 "metadata": {
  "kaggle": {
   "accelerator": "gpu",
   "dataSources": [
    {
     "databundleVersionId": 10898385,
     "sourceId": 90489,
     "sourceType": "competition"
    }
   ],
   "dockerImageVersionId": 30919,
   "isGpuEnabled": true,
   "isInternetEnabled": true,
   "language": "python",
   "sourceType": "notebook"
  },
  "kernelspec": {
   "display_name": "Python 3",
   "language": "python",
   "name": "python3"
  },
  "language_info": {
   "codemirror_mode": {
    "name": "ipython",
    "version": 3
   },
   "file_extension": ".py",
   "mimetype": "text/x-python",
   "name": "python",
   "nbconvert_exporter": "python",
   "pygments_lexer": "ipython3",
   "version": "3.10.12"
  }
 },
 "nbformat": 4,
 "nbformat_minor": 4
}
